{
 "cells": [
  {
   "cell_type": "markdown",
   "metadata": {},
   "source": [
    "# Altezza\n",
    "\n",
    "Viene chiesto di scrivere un programma che chieda all'utente di fornire la sua altezza in centimetri. Se l'altezza è maggiore o uguale a 180 il programma deve stampare la seguente dicitura: ``Sei una persona molto alta``.\n",
    "\n",
    "Tradurre il diagramma di flusso in un codice Python che risolva il problema.\n"
   ]
  },
  {
   "cell_type": "code",
   "execution_count": 2,
   "metadata": {},
   "outputs": [],
   "source": [
    "altezza = float(input(\"quanto sei alto in cm?\"))\n",
    "if altezza >= 180:\n",
    "    print(f\"Sei una persona molto alta\")"
   ]
  },
  {
   "cell_type": "markdown",
   "metadata": {},
   "source": [
    "# Altezza 2\n",
    " Riprendere l'esercizio precedente ed aggiungere il codice che permetta al programma di scrivere ``Sei una persona di media altezza`` se l'altezza è inferiore a 180 cm.\n",
    "\n",
    " Tradurre il diagramma di flusso in un codice Python che risolva il problema."
   ]
  },
  {
   "cell_type": "code",
   "execution_count": 2,
   "metadata": {},
   "outputs": [
    {
     "name": "stdout",
     "output_type": "stream",
     "text": [
      "Sei una persona molto alta\n"
     ]
    }
   ],
   "source": [
    "altezza = float(input(\"quanto sei alto in cm?\"))\n",
    "if altezza >= 180:\n",
    "    print(f\"Sei una persona molto alta\")\n",
    "else:\n",
    "    print(f\"sei una persona di media altezza\")"
   ]
  },
  {
   "cell_type": "markdown",
   "metadata": {},
   "source": [
    "# Area rettangolo\n",
    "L'area di un rettangolo è uguale alla sua base per la sua altezza. Scrivere un programma che chieda la base e l'altezza di due rettangoli e successivamente indichi quale dei due rettangoli ha l'area maggiore."
   ]
  },
  {
   "cell_type": "code",
   "execution_count": 5,
   "metadata": {},
   "outputs": [
    {
     "name": "stdout",
     "output_type": "stream",
     "text": [
      "le aree dei due rettangoli sono uguali\n"
     ]
    }
   ],
   "source": [
    "base_1 = float(input(\"quale è la base del primo rettangolo?\"))\n",
    "altezza_1 = float(input(\"quale è l'altezza del primo rettangolo?\"))\n",
    "base_2 = float(input(\"quale è la base del secondo rettangolo?\"))\n",
    "altezza_2 = float(input(\"quale è l'altezza del secondo rettangolo?\"))\n",
    "\n",
    "area_1 = base_1*altezza_1\n",
    "area_2 = base_2*altezza_2\n",
    "\n",
    "if area_1 > area_2:\n",
    "    print(f\"l'area del primo rettangolo è maggiore di quella del secondo rettangolo\")\n",
    "elif area_2 > area_1:\n",
    "    print(f\"l'area del secondo rettangolo è maggiore di quella del primo\")\n",
    "else:\n",
    "    print(f\"le aree dei due rettangoli sono uguali\")\n",
    "\n"
   ]
  },
  {
   "cell_type": "markdown",
   "metadata": {},
   "source": [
    "# Pari e dispari\n",
    "Scrivere un programma che chieda all'utente di indicare un numero intero. Se il numero è pari, il programma deve visualizzare: ``Il tuo numero è pari`` , se invece il numero è dispari deve visualizzare: ``Il tuo numero è dispari``."
   ]
  },
  {
   "cell_type": "code",
   "execution_count": 10,
   "metadata": {},
   "outputs": [
    {
     "name": "stdout",
     "output_type": "stream",
     "text": [
      "il tuo numero è pari\n"
     ]
    }
   ],
   "source": [
    "numero = int(input(\"indica un numero intero\"))\n",
    "if numero%2 == 0:\n",
    "    print(f\"il tuo numero è pari\")\n",
    "else:\n",
    "    print (f\"il tuo numero è dispari\")"
   ]
  },
  {
   "cell_type": "markdown",
   "metadata": {},
   "source": [
    "# Password\n",
    " Scrivere un programma che chieda all'utente di inserire una password a proprio piacimento. Se la password è composta da almeno 8 caratteri il programma deve visualizzare: ``La password è stata accettata`` , altrimenti ``La password inserita è troppo corta``"
   ]
  },
  {
   "cell_type": "code",
   "execution_count": 12,
   "metadata": {},
   "outputs": [
    {
     "name": "stdout",
     "output_type": "stream",
     "text": [
      "la password inserita è troppo corta\n"
     ]
    }
   ],
   "source": [
    "password = str(input(\"inserisci la password\"))\n",
    "if len(password) >= 8:\n",
    "    print(\"la password è stata accettata\")\n",
    "else:\n",
    "    print(\"la password inserita è troppo corta\")\n"
   ]
  },
  {
   "cell_type": "markdown",
   "metadata": {},
   "source": [
    "# Assegnazioni\n",
    "\n",
    "Scrivere una istruzione ``if`` che assegni 0 alla variabile ``b`` e assegni 1 alla variabile ``c``  se la variabile ``a`` è minore di 10."
   ]
  },
  {
   "cell_type": "code",
   "execution_count": 18,
   "metadata": {},
   "outputs": [
    {
     "name": "stdout",
     "output_type": "stream",
     "text": [
      "b è uguale a 0 e c è uguale a 1\n"
     ]
    }
   ],
   "source": [
    "a = float(input(\"inserisci il valore di a\"))\n",
    "if a < 10:\n",
    "    b = 0\n",
    "    c = 1\n",
    "    print(f\"b è uguale a {b} e c è uguale a {c}\")"
   ]
  },
  {
   "cell_type": "markdown",
   "metadata": {},
   "source": [
    "# Assegnazioni 2\n",
    "Scrivere una istruzione ``if-else `` che assegni 0 alla variabile ``b`` se la variabile ``a`` è minore di 10. In caso contrario, l'istruzione deve assegnare 99 alla variabile ``b``."
   ]
  },
  {
   "cell_type": "code",
   "execution_count": 20,
   "metadata": {},
   "outputs": [
    {
     "name": "stdout",
     "output_type": "stream",
     "text": [
      "la b è uguale a 99\n"
     ]
    }
   ],
   "source": [
    "a = float(input(\"inserisci il valore di a\"))\n",
    "if a < 10:\n",
    "    b = 0\n",
    "    a = 1\n",
    "    print(f\"b è uguale a {b} e a è uguale a {a}\")\n",
    "else:\n",
    "    b = 99\n",
    "    print(f\"la b è uguale a {b}\")"
   ]
  },
  {
   "cell_type": "code",
   "execution_count": null,
   "metadata": {},
   "outputs": [],
   "source": []
  }
 ],
 "metadata": {
  "kernelspec": {
   "display_name": "Python 3 (ipykernel)",
   "language": "python",
   "name": "python3"
  }
 },
 "nbformat": 4,
 "nbformat_minor": 2
}
