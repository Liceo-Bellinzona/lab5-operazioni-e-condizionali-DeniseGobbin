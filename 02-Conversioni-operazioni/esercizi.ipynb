{
 "cells": [
  {
   "cell_type": "markdown",
   "metadata": {},
   "source": [
    "# Paga lorda\n",
    "Scrivere un programma che calcoli e visualizzi la paga lorda di un dipendente a ore. I\n",
    "passaggi da seguire sono i seguenti:\n",
    "1. Ottenere il numero di ore lavorative;\n",
    "2. ottenere retribuzione oraria;\n",
    "3. moltiplicare il numero di ore lavorate per la retribuzione oraria;\n",
    "4. visualizzare il risultato del calcolo eseguito al passaggio 3."
   ]
  },
  {
   "cell_type": "code",
   "execution_count": 1,
   "metadata": {},
   "outputs": [
    {
     "name": "stdout",
     "output_type": "stream",
     "text": [
      "hai lavorato 12.0 ore per 36.0 franchi all'ora\n",
      "hai guadagnato 432.0 franchi\n"
     ]
    }
   ],
   "source": [
    "#chiedi le ore lavorative\n",
    "n_lav = float(input(\"inserisci numero ore lavorative\")) \n",
    "#chiedi la retribuzione oraria\n",
    "retribuzione_ora = float(input(\"inserisce retribuzone oraria\")) \n",
    "\n",
    "\n",
    "print(f\"hai lavorato {n_lav} ore per {retribuzione_ora} franchi all'ora\") \n",
    "\n",
    "print(f\"hai guadagnato {n_lav*retribuzione_ora} franchi\")\n"
   ]
  },
  {
   "cell_type": "markdown",
   "metadata": {},
   "source": [
    "# Calcolo della superficie\n",
    "Un acro di terra corrisponde a circa 4046 metri quadrati. Scrivere un programma che chieda\n",
    "all’utente di inserire la superficie di un terreno in metri quadrati e calcoli quindi il numero\n",
    "di acri di quel terreno."
   ]
  },
  {
   "cell_type": "code",
   "execution_count": 18,
   "metadata": {},
   "outputs": [
    {
     "name": "stdout",
     "output_type": "stream",
     "text": [
      "nel tuo terreno ci stanno 93.91992090954028 acro\n"
     ]
    }
   ],
   "source": [
    "superficie = float(input(f\"inserisci la superficie del terreno in metri quadrati\"))\n",
    "acri = superficie/4046\n",
    "\n",
    "print(f\"nel tuo terreno ci stanno {superficie/4046} acro\")"
   ]
  },
  {
   "cell_type": "markdown",
   "metadata": {},
   "source": [
    "# Previsioni delle vendite \n",
    "Un’azienda ha determinato che il suo profitto annuale è tipicamente il 23% del totale delle\n",
    "vendite. \n",
    "Scrivere un programma che chieda all’utente di inserire il totale delle vendite previste e visualizzi quindi il profitto che si terrà da questa somma.\n",
    "\n",
    "*Suggerimento: non esiste il tipo di dato 23%. È necessario utilizzare gli operatori di\n",
    "moltiplicazione e divisione per ottenere la percentuale sul totale delle vendite.*\n"
   ]
  },
  {
   "cell_type": "code",
   "execution_count": 2,
   "metadata": {},
   "outputs": [
    {
     "name": "stdout",
     "output_type": "stream",
     "text": [
      "il tuo profitto sarà di 23.0\n"
     ]
    }
   ],
   "source": [
    "tot_vendite = float(input(f\"inserisci il totale delle vendite previste\"))\n",
    "profitto = tot_vendite*23/100\n",
    "print(f\"il tuo profitto sarà di {tot_vendite*23/100}\")\n"
   ]
  },
  {
   "cell_type": "markdown",
   "metadata": {},
   "source": [
    "# IVA \n",
    "Scrivere un programma che chieda all’utente di inserire il costo totale di un acquisto al netto\n",
    "di Iva. \n",
    "\n",
    "Si supponga che l’IVA sia pari all’8%. \n",
    "\n",
    "Il programma deve visualizzare il costo totale\n",
    "dell’acquisto al netto di IVA, l’IVA e il costo totale dell’acquisto (quindi IVA compresa)."
   ]
  },
  {
   "cell_type": "code",
   "execution_count": 4,
   "metadata": {},
   "outputs": [
    {
     "name": "stdout",
     "output_type": "stream",
     "text": [
      "il costo dell'acquisto al netto di IVA è 100.0\n",
      "l'IVA è di 8.0\n",
      "costo totale dell'acquisto 108.0\n"
     ]
    }
   ],
   "source": [
    "costo_tot = float(input(f\"inserisci il costo totale dell'acquisto\"))\n",
    "print(f\"il costo dell'acquisto al netto di IVA è {costo_tot}\")\n",
    "#salvo il calcolo in ua variabile per poterla riutilizzare \n",
    "IVA = costo_tot*8/100\n",
    "print(f\"l'IVA è di {IVA}\")\n",
    "print(f\"costo totale dell'acquisto {IVA+costo_tot}\")\n"
   ]
  },
  {
   "cell_type": "code",
   "execution_count": 4,
   "metadata": {},
   "outputs": [
    {
     "name": "stdout",
     "output_type": "stream",
     "text": [
      "hai bisogno di 156.25 grammi di zucchero\n",
      "hai bisogno di 104.16666666666667 grammi di burro\n",
      "hai bisogno di 286.45833333333337 grammi di farina\n"
     ]
    }
   ],
   "source": [
    "n_biscotti = float(input(f\"inserisci numero biscotti che vuoi preparare\"))\n",
    "tot_biscotti = 48\n",
    "zuc_ricetta = 150/tot_biscotti\n",
    "zucchero = zuc_ricetta*n_biscotti\n",
    "print(f\"hai bisogno di {zucchero} grammi di zucchero\")\n",
    "bur_ricetta = 100/tot_biscotti\n",
    "burro = bur_ricetta*n_biscotti\n",
    "print(f\"hai bisogno di {burro} grammi di burro\")\n",
    "far_ricetta = 275/tot_biscotti\n",
    "farina = far_ricetta*n_biscotti\n",
    "print(f\"hai bisogno di {farina} grammi di farina\")"
   ]
  },
  {
   "cell_type": "code",
   "execution_count": null,
   "metadata": {},
   "outputs": [],
   "source": []
  }
 ],
 "metadata": {
  "kernelspec": {
   "display_name": "Python 3 (ipykernel)",
   "language": "python",
   "name": "python3"
  }
 },
 "nbformat": 4,
 "nbformat_minor": 2
}
